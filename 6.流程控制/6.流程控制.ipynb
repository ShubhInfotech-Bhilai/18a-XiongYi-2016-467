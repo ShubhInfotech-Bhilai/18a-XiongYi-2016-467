{
 "cells": [
  {
   "cell_type": "code",
   "execution_count": null,
   "metadata": {},
   "outputs": [],
   "source": [
    "'''\n",
    "熊毅\n",
    "2016011467\n",
    "'''"
   ]
  },
  {
   "cell_type": "code",
   "execution_count": 34,
   "metadata": {
    "scrolled": true
   },
   "outputs": [],
   "source": [
    "import tensorflow as tf\n",
    "\n",
    "a = tf.reshape(tf.range(5*5),(5,5))\n",
    "b = tf.reshape(tf.range(24,-1,-1),(5,5))\n",
    "\n",
    "sess = tf.Session()\n"
   ]
  },
  {
   "cell_type": "code",
   "execution_count": 32,
   "metadata": {},
   "outputs": [
    {
     "name": "stdout",
     "output_type": "stream",
     "text": [
      "[[24 23 22 21 20]\n",
      " [19 18 17 16 15]\n",
      " [14 13 12 13 14]\n",
      " [15 16 17 18 19]\n",
      " [20 21 22 23 24]]\n"
     ]
    }
   ],
   "source": [
    "g1 = tf.get_default_graph()\n",
    "max_mat = tf.where(a>b,a,b,name='where')\n",
    "print(sess.run(max_mat))"
   ]
  },
  {
   "cell_type": "markdown",
   "metadata": {},
   "source": [
    "### tf.maximum\n",
    "### tf.minimum"
   ]
  },
  {
   "cell_type": "raw",
   "metadata": {},
   "source": [
    "参数x、参数y、输出：同shape\n",
    "可用dtype bfloat16 half float32 float64 int32 int64\n",
    "可广播"
   ]
  },
  {
   "cell_type": "markdown",
   "metadata": {},
   "source": [
    "### tf.TensorArray"
   ]
  },
  {
   "cell_type": "raw",
   "metadata": {},
   "source": [
    "这是一个rank为零的series 可以使用 ta.unstack() 传入 rank=1 的 array或tensor\n",
    "必选参数：\n",
    "dtype\n",
    "dynamic_size 是否可以使用ta.write()来增加数据\n",
    "size ta的rank\n",
    "\n",
    "ta.unstack(value,name = None) 传入array或tensor生成新ta时使用，数据降维\n",
    "ta.stack(value,name = None) unstack反向生成一个tensor（rank=1）\n",
    "ta.read(index,name = None) 读取数据\n",
    "ta.write(index, value, name=None) 写数据\n",
    "\n",
    "以上操作均可用name唯一指定"
   ]
  },
  {
   "cell_type": "markdown",
   "metadata": {},
   "source": [
    "### 配合`tf.while_loop`使用"
   ]
  },
  {
   "cell_type": "code",
   "execution_count": 25,
   "metadata": {},
   "outputs": [],
   "source": [
    "import tensorflow as tf\n",
    "import random\n",
    "ta = tf.TensorArray(dtype=tf.float32,dynamic_size=True,size=1)\n",
    "time = tf.constant(0)"
   ]
  },
  {
   "cell_type": "code",
   "execution_count": 31,
   "metadata": {},
   "outputs": [],
   "source": [
    "def cond(time,ta):\n",
    "    return time<3\n",
    "def body(time,ta):\n",
    "    ta = ta.write(time,tf.random_normal([4],dtype=tf.float32))\n",
    "    return time+1,ta\n",
    "time,ta = tf.while_loop(cond,body,[time,ta])"
   ]
  },
  {
   "cell_type": "code",
   "execution_count": 27,
   "metadata": {},
   "outputs": [
    {
     "name": "stdout",
     "output_type": "stream",
     "text": [
      "[[-0.608475    0.83108574 -0.39135402 -1.5966594 ]\n",
      " [-0.605666   -0.7972678  -0.87241834 -1.3459315 ]\n",
      " [ 0.08015171  0.9413354  -0.42477417  0.2996975 ]]\n"
     ]
    }
   ],
   "source": [
    "sess = tf.Session()\n",
    "result_tens = ta.stack()\n",
    "print(sess.run(result_tens))"
   ]
  }
 ],
 "metadata": {
  "kernelspec": {
   "display_name": "Python 3",
   "language": "python",
   "name": "python3"
  },
  "language_info": {
   "codemirror_mode": {
    "name": "ipython",
    "version": 3
   },
   "file_extension": ".py",
   "mimetype": "text/x-python",
   "name": "python",
   "nbconvert_exporter": "python",
   "pygments_lexer": "ipython3",
   "version": "3.6.6"
  }
 },
 "nbformat": 4,
 "nbformat_minor": 2
}
