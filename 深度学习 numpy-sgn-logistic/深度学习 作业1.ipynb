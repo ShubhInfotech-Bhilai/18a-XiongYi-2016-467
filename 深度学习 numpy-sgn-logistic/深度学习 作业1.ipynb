{
 "cells": [
  {
   "cell_type": "code",
   "execution_count": 1,
   "metadata": {},
   "outputs": [],
   "source": [
    "import numpy as np"
   ]
  },
  {
   "cell_type": "code",
   "execution_count": 4,
   "metadata": {},
   "outputs": [
    {
     "name": "stdout",
     "output_type": "stream",
     "text": [
      "0\n",
      "1\n",
      "0.2689414213699951\n",
      "0.8807970779778823\n"
     ]
    }
   ],
   "source": [
    "def sgn(x):\n",
    "    if x>= 0:\n",
    "        return 1\n",
    "    else:\n",
    "        return 0\n",
    "def logistic(x):\n",
    "    return 1/(1.+np.exp(-x))\n",
    "print(sgn(-1))\n",
    "print(sgn(3))\n",
    "print(logistic(-1))\n",
    "print(logistic(2))"
   ]
  }
 ],
 "metadata": {
  "kernelspec": {
   "display_name": "Python 3",
   "language": "python",
   "name": "python3"
  },
  "language_info": {
   "codemirror_mode": {
    "name": "ipython",
    "version": 3
   },
   "file_extension": ".py",
   "mimetype": "text/x-python",
   "name": "python",
   "nbconvert_exporter": "python",
   "pygments_lexer": "ipython3",
   "version": "3.6.6"
  }
 },
 "nbformat": 4,
 "nbformat_minor": 2
}
