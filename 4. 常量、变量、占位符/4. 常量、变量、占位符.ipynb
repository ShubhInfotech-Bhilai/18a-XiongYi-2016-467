{
 "cells": [
  {
   "cell_type": "markdown",
   "metadata": {},
   "source": [
    "### 1.构建二元线性回归模型，其中模型中的参数使用`tf.Variable()`构建，模型的样本输入使用`tf.placeholder`代替。写出模型结构。"
   ]
  },
  {
   "cell_type": "code",
   "execution_count": 12,
   "metadata": {},
   "outputs": [],
   "source": [
    "import tensorflow as tf\n",
    "import pandas as pd\n",
    "import numpy as np\n",
    "import seaborn"
   ]
  },
  {
   "cell_type": "code",
   "execution_count": null,
   "metadata": {},
   "outputs": [],
   "source": [
    "train_X\n",
    "train_Y"
   ]
  },
  {
   "cell_type": "code",
   "execution_count": null,
   "metadata": {},
   "outputs": [],
   "source": [
    "n_samples = train_X.shape[0]\n",
    "# 学习率\n",
    "learning_rate = 2\n",
    "# 迭代次数\n",
    "training_epochs = 1000\n",
    "#多久输出一次迭代结果\n",
    "display_step  = 50"
   ]
  },
  {
   "cell_type": "code",
   "execution_count": null,
   "metadata": {},
   "outputs": [],
   "source": [
    "# 训练开始的时候需要“喂”(feed)数据给它 \n",
    "X = tf.placeholder(tf.float32) \n",
    "Y = tf.placeholder(tf.float32) \n",
    "# 定义模型参数 \n",
    "W = tf.Variable(np.random.randn(), name=\"weight\", dtype=tf.float32) \n",
    "b = tf.Variable(np.random.randn(), name=\"bias\", dtype=tf.float32)\n"
   ]
  },
  {
   "cell_type": "code",
   "execution_count": null,
   "metadata": {},
   "outputs": [],
   "source": [
    "# 定义模型 \n",
    "pred = tf.add(tf.mul(W, X), b) \n",
    "# 定义损失函数 \n",
    "cost = tf.reduce_sum(tf.pow(pred-Y, 2)) / (2 * n_samples) \n",
    "optimizer = tf.train.AdamOptimizer(learning_rate).minimize(cost) \n",
    "# 初始化所有变量 \n",
    "init = tf.initialize_all_variables()"
   ]
  },
  {
   "cell_type": "code",
   "execution_count": null,
   "metadata": {
    "collapsed": true
   },
   "outputs": [],
   "source": [
    "#train begin\n",
    "with tf.Session() as sess:\n",
    "    sess.run(init)\n",
    "    \n",
    "    for epoch in range(training_epochs):\n",
    "        for(x,y) in zip(train_X,train_Y):\n",
    "            sess.run(optimizer,feed_dict={X:x,Y:y})\n",
    "\n",
    "\n",
    "#         if (epoch +1) % display_step == 0:\n",
    "#             c  == sess.run(optimizer,feed_dict = {X:x,Y:y})\n",
    "#             print('Epoch:','%04d' % (epoch + 1),\"cost=\",\"{:.3f}\".format(c),\"W=\",sess.run(W),\"b=\",sess.run(b))\n",
    "            \n",
    "#     print(\"Optimization Finashed!\")\n",
    "#     training_const = sess.run(cost, feet_dict={X:train_X,Y:train_Y})\n",
    "#     print(\"Training cost=\",training_cost,\"W=\",sess.run(W),\"b=\",sess.run(b),'\\n')\n",
    "    \n",
    "#     #画图\n",
    "#     plt.plot(train_X,train_Y,'ro',label=\"Original data\")\n",
    "#     plt.plot(train_X,ses.run(W) * train_X + sess.run(b) , label=\"Fitted line\")\n",
    "#     plt.legend()\n",
    "#     plt.show()"
   ]
  },
  {
   "cell_type": "code",
   "execution_count": null,
   "metadata": {},
   "outputs": [],
   "source": []
  }
 ],
 "metadata": {
  "kernelspec": {
   "display_name": "Python 3",
   "language": "python",
   "name": "python3"
  },
  "language_info": {
   "codemirror_mode": {
    "name": "ipython",
    "version": 3
   },
   "file_extension": ".py",
   "mimetype": "text/x-python",
   "name": "python",
   "nbconvert_exporter": "python",
   "pygments_lexer": "ipython3",
   "version": "3.6.6"
  }
 },
 "nbformat": 4,
 "nbformat_minor": 2
}
