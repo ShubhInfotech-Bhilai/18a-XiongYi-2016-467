{
 "cells": [
  {
   "cell_type": "code",
   "execution_count": null,
   "metadata": {},
   "outputs": [],
   "source": [
    "'''\n",
    "熊毅\n",
    "2016011467\n",
    "'''"
   ]
  },
  {
   "cell_type": "markdown",
   "metadata": {},
   "source": [
    "1、总结`name_scope`与`variable_scope`的作用以及异同点。"
   ]
  },
  {
   "cell_type": "raw",
   "metadata": {},
   "source": [
    "作用：为一张图内的op构造命名空间，使其便于分类和管理。\n",
    "异：每一个variable_scope在创建的时候都创建了一个name_scope（是除tf.get_variable()以\n",
    "    外的op使用的），只有variable_scope对tf.get_variable()有效。\n",
    "    可以复用空间以及空间中的get_variable()元素并为其设置一系列默认操作。\n",
    "同：其余op的效果与name_scope相同"
   ]
  },
  {
   "cell_type": "markdown",
   "metadata": {},
   "source": [
    "2、构建逻辑回归模型（只有模型部分，不包括训练部分），使用`get_variable`与`variable_scope`将变量的创建与使用分开。提示：使用`tf.nn.sigmoid`实现`logistic`函数。"
   ]
  },
  {
   "cell_type": "code",
   "execution_count": 48,
   "metadata": {},
   "outputs": [],
   "source": [
    "import tensorflow as tf"
   ]
  },
  {
   "cell_type": "code",
   "execution_count": null,
   "metadata": {},
   "outputs": [],
   "source": [
    "with tf.variable_scope('var_sco')as scope:\n",
    "    tf.get_variable(shape=[],name='w',dtype='tf.float16')\n",
    "    tf.get_variable(shape=[],name='b',dtype='tf.float16')\n",
    "    x = tf.placeholder(name='x',dtype='tf.float16',shape=[1])\n",
    "    scope.reuse_variables()\n",
    "    w = tf.get_variable('w',[1])\n",
    "    b = tf.get_variable('b',[1])\n",
    "with tf.Session() as sess:\n",
    "    sess.run(tf.global_variables_initializer())\n",
    "    t = tf.multiply(w,x)+b\n",
    "    lr = tf.nn.sigmoid(t)"
   ]
  }
 ],
 "metadata": {
  "kernelspec": {
   "display_name": "Python 3",
   "language": "python",
   "name": "python3"
  },
  "language_info": {
   "codemirror_mode": {
    "name": "ipython",
    "version": 3
   },
   "file_extension": ".py",
   "mimetype": "text/x-python",
   "name": "python",
   "nbconvert_exporter": "python",
   "pygments_lexer": "ipython3",
   "version": "3.6.6"
  }
 },
 "nbformat": 4,
 "nbformat_minor": 2
}
