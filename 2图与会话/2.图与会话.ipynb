{
 "cells": [
  {
   "cell_type": "code",
   "execution_count": 10,
   "metadata": {},
   "outputs": [
    {
     "name": "stdout",
     "output_type": "stream",
     "text": [
      "3\n",
      "3\n",
      "5\n",
      "1\n",
      "6\n",
      "0.6666666666666666\n",
      "2\n",
      "8\n",
      "4\n",
      "1.7320508\n"
     ]
    }
   ],
   "source": [
    "#16级-熊毅-467\n",
    "\n",
    "#T1\n",
    "import tensorflow as tf\n",
    "two = tf.constant(1)\n",
    "three = tf.constant(2)\n",
    "add_three = tf.add(two,three)\n",
    "sess1 = tf.Session()\n",
    "print(sess1.run(add_three))\n",
    "sess1.close()\n",
    "with tf.Session() as sess:\n",
    "    print(add_three.eval())\n",
    "    \n",
    "\n",
    "#T2\n",
    "two = tf.constant(2)\n",
    "three = tf.constant(3)\n",
    "eight = tf.constant(8)\n",
    "add_two_three = tf.add(two,three)\n",
    "sub_three_two = tf.subtract(three,two)\n",
    "mul_two_three = tf.multiply(two,three)\n",
    "div_two_three = tf.divide(two,three)\n",
    "mod_two_three = tf.mod(two,three)\n",
    "pow_two_three = tf.pow(two,three)\n",
    "square_two = tf.square(two)\n",
    "sqrt_three = tf.sqrt(tf.to_float(three))\n",
    "sess = tf.InteractiveSession()\n",
    "print(add_two_three.eval())\n",
    "print(sub_three_two.eval())\n",
    "print(mul_two_three.eval())\n",
    "print(div_two_three.eval())\n",
    "print(mod_two_three.eval())\n",
    "print(pow_two_three.eval())\n",
    "print(square_two.eval())\n",
    "print(sqrt_three.eval())\n",
    "sess.close()"
   ]
  }
 ],
 "metadata": {
  "kernelspec": {
   "display_name": "Python 3",
   "language": "python",
   "name": "python3"
  },
  "language_info": {
   "codemirror_mode": {
    "name": "ipython",
    "version": 3
   },
   "file_extension": ".py",
   "mimetype": "text/x-python",
   "name": "python",
   "nbconvert_exporter": "python",
   "pygments_lexer": "ipython3",
   "version": "3.6.6"
  }
 },
 "nbformat": 4,
 "nbformat_minor": 2
}
